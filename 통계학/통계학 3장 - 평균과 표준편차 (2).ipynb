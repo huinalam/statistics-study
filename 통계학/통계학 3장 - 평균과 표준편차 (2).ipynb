{
 "cells": [
  {
   "cell_type": "code",
   "execution_count": 15,
   "metadata": {
    "collapsed": true
   },
   "outputs": [],
   "source": [
    "import scipy.stats as st\n",
    "import numpy as np"
   ]
  },
  {
   "cell_type": "markdown",
   "metadata": {},
   "source": [
    "# 복습문제"
   ]
  },
  {
   "cell_type": "markdown",
   "metadata": {},
   "source": [
    "### (6) \n",
    "```\n",
    "10명의 시험성적과 사전 예측치가 다음과 같이 주어져 있다. 예측의 RMS가 3.6이라면 이를 믿어야 하는가? 단, 예측오차는 실제치와 예측치의 차이로 정의된다.\n",
    "```"
   ]
  },
  {
   "cell_type": "code",
   "execution_count": 1,
   "metadata": {
    "collapsed": true
   },
   "outputs": [],
   "source": [
    "실제치 = [88, 70, 81, 85, 63, 77, 66, 49, 71, 69]\n",
    "예측치 = [90, 99, 87, 89, 42, 70, 67, 60, 83, 94]"
   ]
  },
  {
   "cell_type": "code",
   "execution_count": 12,
   "metadata": {
    "collapsed": false
   },
   "outputs": [],
   "source": [
    "diff = [ori-pre for ori, pre in zip(실제치, 예측치)]"
   ]
  },
  {
   "cell_type": "code",
   "execution_count": 13,
   "metadata": {
    "collapsed": false
   },
   "outputs": [
    {
     "data": {
      "text/plain": [
       "[-2, -29, -6, -4, 21, 7, -1, -11, -12, -25]"
      ]
     },
     "execution_count": 13,
     "metadata": {},
     "output_type": "execute_result"
    }
   ],
   "source": [
    "diff"
   ]
  },
  {
   "cell_type": "code",
   "execution_count": 8,
   "metadata": {
    "collapsed": true
   },
   "outputs": [],
   "source": [
    "def get_rms(arr):\n",
    "    제곱 = [i ** 2 for i in arr]\n",
    "    평균 = sum(제곱)/len(arr)\n",
    "    제곱근 = 평균 ** 0.5\n",
    "    return 제곱근"
   ]
  },
  {
   "cell_type": "code",
   "execution_count": 11,
   "metadata": {
    "collapsed": false
   },
   "outputs": [
    {
     "name": "stdout",
     "output_type": "stream",
     "text": [
      "RMS 오차: 15.093044755780724\n"
     ]
    }
   ],
   "source": [
    "print('RMS 오차: {0}'.format(get_rms(diff)))"
   ]
  },
  {
   "cell_type": "markdown",
   "metadata": {},
   "source": [
    "예측 오차 RMS가 3.6이 아닌데? 이렇게 계산하면 되는건가???\n",
    "\n",
    "다르게 문제를 내보자. 저 오차가 나는데도 예측치를 활용해도 될까? 활용해도 된다고 보려면, 얼마의 오차를 적당량으로 볼까?\n",
    "\n",
    "오차가 +-5점이 약 95%가 되어야 한다고 가설을 세우고, 검정을 시작해보자."
   ]
  },
  {
   "cell_type": "code",
   "execution_count": 18,
   "metadata": {
    "collapsed": false
   },
   "outputs": [
    {
     "name": "stdout",
     "output_type": "stream",
     "text": [
      "평균: -6.2\n",
      "표준편차: 14.505171491574997\n"
     ]
    }
   ],
   "source": [
    "# n의 개수가 작으므로 자유도를 적용했다.\n",
    "print('평균: {0}'.format(np.mean(diff)))\n",
    "print('표준편차: {0}'.format(np.std(diff, ddof=1)))"
   ]
  },
  {
   "cell_type": "code",
   "execution_count": null,
   "metadata": {
    "collapsed": true
   },
   "outputs": [],
   "source": [
    "# 개념적으로 헤깔리는 부분이 있으니, 3장 정규분포 파트로 들어가서 다시 고민하고 풀어보자."
   ]
  }
 ],
 "metadata": {
  "kernelspec": {
   "display_name": "Python 3",
   "language": "python",
   "name": "python3"
  },
  "language_info": {
   "codemirror_mode": {
    "name": "ipython",
    "version": 3
   },
   "file_extension": ".py",
   "mimetype": "text/x-python",
   "name": "python",
   "nbconvert_exporter": "python",
   "pygments_lexer": "ipython3",
   "version": "3.5.2"
  }
 },
 "nbformat": 4,
 "nbformat_minor": 2
}
